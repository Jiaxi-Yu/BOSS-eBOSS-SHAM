{
 "cells": [
  {
   "cell_type": "markdown",
   "metadata": {},
   "source": [
    "# Work Plan"
   ]
  },
  {
   "cell_type": "markdown",
   "metadata": {},
   "source": [
    "* Create LRG catalogue from the halo catalogue using HAM with parameter $\\sigma_{HAM}$\n",
    "    * 2PCF and RSD tests\n",
    "* Determine $\\sigma_{HAM}$ by fitting the HAM model with observation\n",
    "    * 2PCF, $\\chi^2$ minimise\n",
    "        * the code test for $\\chi^2$ using primary simulation and observations (just for tests)\n",
    "        * 2PCF fibre collision effects determination using EZmock(maybe directly from others)  \n",
    "        * (discarded)Jackknife method to produce 2pcf observation errors in small scale\n",
    "        * get the LRG distribution function in haloes\n",
    "* Do the same for ELG but with more complicated HAM model\n",
    "    * 3 free parameters in HAM models\n",
    "    * get the ELG distribution function in haloes \n",
    "    \n",
    "\n",
    "---------------------------------------------------------------------------------------------------------------------------------------------\n",
    "* Cross-correlate the LRG and ELG\n",
    "    * Produce the ELG and LRG catalogue simultaneously according to the galaxy distribution function\n",
    "    * count the galaxy pairs and calculate the 2pcf\n",
    "    * Fit the LRG 2PCF, ELG 2PCF and LRG-ELG CCF with observation\n",
    "        * parameters: 1(ELG-LRG overlap)"
   ]
  },
  {
   "cell_type": "markdown",
   "metadata": {},
   "source": [
    "## Process\n",
    "### <font color=\"#dd0000\">To do</font><br /> \n",
    "* solve the problem: \n",
    "    * interactive nodes out of memory\n",
    "    * reproduce the LRG and ELG results\n",
    "* determine the outline\n",
    "* write the cosmological background (introduction)\n",
    "* write the technical details\n",
    "* the acknowledge and abstract"
   ]
  },
  {
   "cell_type": "markdown",
   "metadata": {},
   "source": [
    "### Done\n",
    "* read test halo catalogue and created LRG catalogues from it \n",
    "    * scattering parameter $\\sigma_{HAM}$\n",
    "* Calculated the mono-, quadru- and hexadeca-poles of the 2-point correlation function\n",
    "    * used 2PCF code from Cheng\n",
    "* converted the halo/galaxy catalogue from the real space to the redshift space\n",
    "    * RSD effect\n",
    "* determined the starting point of 2PCF\n",
    "    * start from 0 is acceptable\n",
    "    * fibre collision effect are so small (<1Mpc/h) that our bin size cannot resolute it\n",
    "* used the Corrfunc to count the galaxy pairs for $\\chi^2$ tests\n",
    "    * ensured Corrfunc could produce the same result as 2pcf\n",
    "    * Corrfunc.theory.DDsmu() and np.trapz() were employed to calculate multipoles\n",
    "    * RR analytical form should be $\\frac{4\\pi}{3}\\frac{s_{max}^3-s_{min}^3}{nmu}$\n",
    "* observation and covariance matric for $\\chi^2$ tests\n",
    "    * observation use 2pcf, bin width = 1Mpc/h, multipoles:[mono,quad]\n",
    "    * covariance matrix from the existing DD,DR,RR files\n",
    "        * pair counts results match the 2pcf results of mocks\n",
    "        * np.trapz() used\n",
    "        * it is a covariance matrix of multipoles' combination, i.e., cov = np.cov([mono,quad]) \n",
    "        * unbiased $C^{-1}=np.linalg.pinv(cov)\\times \\frac{N_{bins}-N_{mocks}-2}{N_{bins}-1}$\n",
    "* completing the $\\chi^2$ calculation code\n",
    "    * observation 2pcf multipoles\n",
    "    * mock 2pcf multipoles and covariance matrix\n",
    "    * Normalised RR analytical calculation\n",
    "    * <font color=\"#dd0000\">(fixing)creating random numbers with multiple seeds and construct galaxy catalogues and produce the correlation functions</font><br /> \n",
    "    * model = average over the correlation functions(<font color=\"#dd0000\">only the monopoles</font><br/>) for a given sigma with different seeds\n",
    "    * $\\chi^2$ minimising\n",
    "    * $\\xi_{l}(s)$ of the best model comparing with the observation\n",
    "    * optimising it to make it faster and more robust.\n",
    "        * speed up the code by generating uniform random numbers and inverse transform it into normal random numbers\n",
    "* test the LRG and ELG versions:]\n",
    "    * $\\chi^2-parameters$ distribution to select the suitable parameter range and the step size\n",
    "* Wait for the real data for the galaxy distribution determination\n",
    "* Do the same for ELGs\n"
   ]
  },
  {
   "cell_type": "markdown",
   "metadata": {},
   "source": [
    "### **solved problems**:\n",
    "* LRG sorting process takes lots of time\n",
    "    * use np.argpartition instead of np.sort (no need to sort, we just want Nth maximum)\n",
    "* the same seed and sigma provide different 2pcf results(inconsistency)\n",
    "    * specify the random seed in the $\\chi^2$ function\n",
    "* how to plot error bars\n",
    "    * yerr = np.std(mockarray,axis=1)\n",
    "* **removed the s=0 bin from the fitting or smin>1Mpc/h** \n",
    "    * s=0 heavily contributed to $\\chi^2$ thus resulted in rediculous conclusion drawn from $\\chi^2$\n",
    "* find an appropriate $\\chi2$ minimiser:\n",
    "    * Minute.iminuit: sigma.migrad(precision=0.001) helps converge in <300s and produce sigma with smaller $\\chi^2$ than scipy.optimise.minimize(takes ~150s)\n",
    "* parallel calculation\n",
    "    * multiprocessing.pool.map for single-variable functions and multiprocessing.pool.starmap for nultiple-variable functions\n",
    "* time-consuming np.random.normal()\n",
    "    * replaced by np.random.uniform with Box-Muller Transformation.\n",
    "* len(catalogue)\\*2 exceeds the maximum capability of the function\n",
    "    * only produce uniform random numbers with length = len(catalogue)\n",
    "* incorrect ELG prior: \n",
    "    * the vmax cut in the high end should be as low as ~100km/s instead of 1000km/s.\n",
    "        * because LRG cut ~400km/s,$M_{LRG}\\approx 100M_{ELG}$ , then $v \\propto \\sqrt{M}$, so the prior should be (0,200)"
   ]
  },
  {
   "cell_type": "code",
   "execution_count": null,
   "metadata": {},
   "outputs": [],
   "source": []
  },
  {
   "cell_type": "code",
   "execution_count": null,
   "metadata": {},
   "outputs": [],
   "source": []
  },
  {
   "cell_type": "code",
   "execution_count": null,
   "metadata": {},
   "outputs": [],
   "source": []
  }
 ],
 "metadata": {
  "kernelspec": {
   "display_name": "Python 3",
   "language": "python",
   "name": "python3"
  },
  "language_info": {
   "codemirror_mode": {
    "name": "ipython",
    "version": 3
   },
   "file_extension": ".py",
   "mimetype": "text/x-python",
   "name": "python",
   "nbconvert_exporter": "python",
   "pygments_lexer": "ipython3",
   "version": "3.7.3"
  }
 },
 "nbformat": 4,
 "nbformat_minor": 2
}
