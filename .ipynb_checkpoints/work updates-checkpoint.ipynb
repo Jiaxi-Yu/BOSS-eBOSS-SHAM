{
 "cells": [
  {
   "cell_type": "markdown",
   "metadata": {},
   "source": [
    "# Work Plan"
   ]
  },
  {
   "cell_type": "markdown",
   "metadata": {},
   "source": [
    "* Create LRG catalogue from the halo catalogue using HAM with parameter $\\sigma_{HAM}$\n",
    "    * 2PCF and RSD tests\n",
    "* Determine $\\sigma_{HAM}$ by fitting the HAM model with observation\n",
    "    * 2PCF, $\\chi^2$ minimise\n",
    "        * 2PCF fibre collision effects determination using EZmock\n",
    "        * the code for $\\chi^2$ tests\n",
    "----------------------------------------------------------------------        \n",
    "        * systematics and weights in galaxy mock and observations(?)\n",
    "    * get the LRG distribution function in haloes\n",
    "\n",
    "* Do the same for ELG but with more complicated HAM model\n",
    "    * 3 free parameters in HAM models\n",
    "    * get the ELG distribution function in haloes \n",
    "    \n",
    "* Cross-correlate the LRG and ELG\n",
    "    * Combine the galaxy distribution function for both LRG and ELG\n",
    "    * Fit the LRG 2PCF, ELG 2PCF and LRG-ELG CCF with observation\n",
    "        * parameters: 1(ELG-LRG overlap)"
   ]
  },
  {
   "cell_type": "markdown",
   "metadata": {},
   "source": [
    "## Process\n",
    "### To do\n",
    "* find an appropriate $\\chi2$ minimiser : fast and accurate\n",
    "    * Minute.iminute takes ~1000s\n",
    "    * scipy.optimise.minimize takes ~150s, but seems unreliable\n",
    "* Use the real data for the LRG distribution determination.\n",
    "* Do the same for ELGs\n",
    "\n"
   ]
  },
  {
   "cell_type": "markdown",
   "metadata": {},
   "source": [
    "### Done\n",
    "* read test halo catalogue and created LRG catalogues from it \n",
    "    * scattering parameter $\\sigma_{HAM}$\n",
    "* Calculated the mono-, quadru- and hexadeca-poles of the 2-point correlation function\n",
    "    * used 2PCF code from Cheng\n",
    "* converted the halo/galaxy catalogue from the real space to the redshift space\n",
    "    * RSD effect\n",
    "* determined the starting point of 2PCF\n",
    "    * start from 0 is acceptable\n",
    "    * fibre collision effect are so small (<1Mpc/h) that our bin size cannot resolute it\n",
    "* used the Corrfunc to count the galaxy pairs for $\\chi^2$ tests\n",
    "    * ensured Corrfunc could produce the same result as 2pcf\n",
    "    * Corrfunc.theory.DDsmu() and np.trapz() were employed to calculate multipoles\n",
    "    * RR analytical form should be $\\frac{4\\pi}{3}\\frac{s_{max}^3-s_{min}^3}{nmu}$\n",
    "* observation and covariance matric for $\\chi^2$ tests\n",
    "    * observation use 2pcf, bin width = 1Mpc/h, multipoles:[mono,quad]\n",
    "    * covariance matrix from the existing DD,DR,RR files\n",
    "        * pair counts results match the 2pcf results of mocks\n",
    "        * np.trapz() used\n",
    "        * it is a covariance matrix of multipoles' combination, i.e., cov = np.cov([mono,quad]) \n",
    "        * unbiased $C^{-1}=np.linalg.pinv(cov)\\times \\frac{N_{bins}-N_{mocks}-2}{N_{bins}-1}$\n",
    "* completing the $\\chi^2$ calculation code\n",
    "    * observation 2pcf multipoles\n",
    "    * mock 2pcf multipoles and covariance matrix\n",
    "    * Normalised RR analytical calculation\n",
    "    * $\\chi^2-\\sigma$ distribution to select the suitable parameter range and the step size\n",
    "    * **only the monopoles**\n",
    "    * solved problems:\n",
    "        * LRG sorting process takes lots of time: use np.argpartition instead of np.sort (no need to sort, we just want Nth maximum)\n",
    "        * the same seed and sigma provide different 2pcf results(inconsistency): specify the random seed in the $\\chi^2$ function\n",
    "        * how to plot error bars: yerr = np.std(mockarray,axis=1)\n",
    "        * **removed the s=0 bin from the fitting** because it heavily contributed to $\\chi^2$ thus resulted in rediculous conclusion drawn from $\\chi^2$\n",
    "    "
   ]
  },
  {
   "cell_type": "code",
   "execution_count": null,
   "metadata": {},
   "outputs": [],
   "source": []
  },
  {
   "cell_type": "code",
   "execution_count": null,
   "metadata": {},
   "outputs": [],
   "source": []
  },
  {
   "cell_type": "code",
   "execution_count": null,
   "metadata": {},
   "outputs": [],
   "source": []
  },
  {
   "cell_type": "code",
   "execution_count": null,
   "metadata": {},
   "outputs": [],
   "source": []
  }
 ],
 "metadata": {
  "kernelspec": {
   "display_name": "Python 3",
   "language": "python",
   "name": "python3"
  },
  "language_info": {
   "codemirror_mode": {
    "name": "ipython",
    "version": 3
   },
   "file_extension": ".py",
   "mimetype": "text/x-python",
   "name": "python",
   "nbconvert_exporter": "python",
   "pygments_lexer": "ipython3",
   "version": "3.7.3"
  }
 },
 "nbformat": 4,
 "nbformat_minor": 2
}
