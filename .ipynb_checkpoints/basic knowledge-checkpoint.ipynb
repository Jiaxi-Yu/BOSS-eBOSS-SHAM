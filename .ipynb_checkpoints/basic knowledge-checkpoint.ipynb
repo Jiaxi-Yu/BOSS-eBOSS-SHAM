{
 "cells": [
  {
   "cell_type": "markdown",
   "metadata": {},
   "source": [
    "# The Halo Abundance Matching (HAM)"
   ]
  },
  {
   "cell_type": "markdown",
   "metadata": {},
   "source": [
    "The Halo Abundance Matching (HAM) is to find how different types of galaxies are distributed in Dark Matter Haloes with different $M_{halo}$ or $V_{peak}$ ($V_{peak}=\\sqrt\\frac{GM_{halo}}{R_{200}^3}$). The way to allocate them could be described by probability distribution function (PDF)\n",
    "\\begin{equation}\n",
    "P(\\textrm{number of galaxies in a halo}) = f(V_{peak})\n",
    "\\end{equation}\n",
    "which is our emperical model with several parameters. \n",
    "\n",
    "\n",
    "From the observation, we know the Stellar Mass Function (SMF), i.e.,$n_{gal} = n_{gal}(M_{*})$, and the total number of galaxies $N_{gal}$(Luminous Red Galaxies or Emission Line Galaxies) in a certain $M_{*}$ range. "
   ]
  },
  {
   "cell_type": "code",
   "execution_count": 41,
   "metadata": {},
   "outputs": [
    {
     "data": {
      "image/png": "[encoded data removed]",
      "text/plain": [
       "<Figure size 720x288 with 2 Axes>"
      ]
     },
     "metadata": {
      "needs_background": "light"
     },
     "output_type": "display_data"
    }
   ],
   "source": [
    "# plot galaxy distribution laws\n",
    "import matplotlib.pyplot as plt\n",
    "import numpy as np\n",
    "fig = plt.figure(figsize=(10,4))\n",
    "ax  = plt.subplot2grid((1,2),(0,0))\n",
    "plt.title('$f(V_{peak})$ for LRG')\n",
    "ax.plot(np.linspace(0,3,30),np.ones(30),c='r')\n",
    "ax.plot(np.linspace(3,5,20),np.exp(-(np.linspace(3,5,20)-3)**2),c='r')\n",
    "ax.set_xlabel('$\\leftarrow$ (Large)'+'       $V_{peak}$')\n",
    "ax.set_ylabel('prob. of having a LRG')\n",
    "ax.set_ylim(0,1.05)\n",
    "ax.set_xticklabels([]);\n",
    "ax  = plt.subplot2grid((1,2),(0,1))\n",
    "plt.title('$f(V_{peak})$ for ELG')\n",
    "ax.plot(np.linspace(0,2,20),0.6*np.exp(-(np.linspace(0,2,20)-2)**2/0.04),c='b')\n",
    "ax.plot(np.linspace(2,4,20),0.6*np.ones(20),c='b')\n",
    "ax.plot(np.linspace(4,5,10),0.6*np.exp(-(np.linspace(4,5,10)-4)**2/0.25),c='b')\n",
    "ax.set_xlabel('$\\leftarrow$ (Large)'+'       $V_{peak}$')\n",
    "ax.set_ylabel('prob. of having a ELG')\n",
    "ax.set_ylim(0,1.05)\n",
    "ax.set_xticklabels([]);"
   ]
  },
  {
   "cell_type": "markdown",
   "metadata": {},
   "source": [
    "In order to model the effect of the LRG probability distribution, S. Rodríguez-Torres et al. (2016) use the following steps:\n",
    "\n",
    "1. $V_{peak}^{scat} = [1+N(0,\\sigma_{HAM}^2)]V_{peak}$  where $\\sigma_{HAM}=\\sigma_{HAM}(V_{peak}|M_{*})$\n",
    "2. Sort the $V_{peak}^{scat}$ starting from the largest and construct cumulative $n_{halo}=n_{halo}(V_{peak}^{scat})$\n",
    "**************************************\n",
    "3. Integrate SMF to obtain the cumulative $n_{gal}=n_{gal}(M_{*})$\n",
    "4. Construct a monotonic relation between cumulative $n_{gal}$ and cumulative $n_{halo}$ \n",
    "5. Link $V_{peak}^{halo}$ and $M_{*}$ by having $n_{gal}(M_{*}>M_{*,i})=n_{halo}(V_{peak}^{scat}>V_{peak,i}^{scat})$ for all indices i\n",
    "6. Total galaxy number $N_{gal}=\\int_{lower}^{upper} P(V_{peak})\\times n_{gal}(M_{*})=\\int_{M_{*,min}}^{M_{*,max}} f(V_{peak}(M_{*}))\\times n_{gal}(M_{*})$. \n",
    "7. $N_{gal},n_{gal}(M_{*})$ and $V_{peak}(M_{*})$ are from observations, we need to determine the threshold $V_{peak,i}^{scat}$ and then create the galaxy catalogues.\n",
    "**************************************"
   ]
  },
  {
   "cell_type": "markdown",
   "metadata": {},
   "source": [
    "The first step is to model the galaxy probability distribution. For heavy galaxies, i.e., $M_{h}>M^{crit}_h+5\\sigma_{HAM}$, they have little chance of being scattered out of the thresold. So practically they guarantee an LRG in its centre. For haloes with smaller mass, they have greater chance of being filtered, but they could also be scattered above the threshold. This scattering will produce probability distribution as we expected in the LRG plot. "
   ]
  },
  {
   "cell_type": "markdown",
   "metadata": {},
   "source": [
    "# Correlation Function $\\xi(\\textbf{x})$"
   ]
  },
  {
   "cell_type": "markdown",
   "metadata": {},
   "source": [
    "At an arbitrary time, probability to find two galaxies whose distance are $\\textbf{s}$ is $P=(\\overline{n}dV)^2[1+\\xi(\\textbf{s})]$, where $\\xi(\\textbf{s})=\\langle \\delta(\\textbf{x})\\delta(\\textbf{x}+\\textbf{s}) \\rangle$is the 2-point correlation function, $\\delta (\\textbf{x})=\\frac{\\rho(\\textbf{x})-\\overline{\\rho}}{\\overline{\\rho}}$ is the density contrast. The fourier transformation of 2-point CF is the power spectrum $P(\\textbf{k})=\\int d^3\\textbf{x}   e^{i\\textbf{kx}}\\xi({\\textbf{s}})$.\n",
    "\n",
    "The halo bias $b_{h}$ satisfies $\\delta_{h}=b_{h}\\delta_{dm}$ and the galaxy bias $b_{g}$ satisfies $\\delta_{g}=b_{g}\\delta_{dm}$. This means that the correlation function of haloes $\\xi_{h}=b_h^2\\xi_{dm}$ and galaxies $\\xi_{g}=b_g^2\\xi_{dm}$.The more massive the objects are, the larger the contrasts $\\delta$ are so the larger the $\\xi$ are. So the positive part of the correlation function should be $\\xi_{h}> \\xi_{LRG}> \\xi_{ELG}$.\n",
    "\n",
    "The spacetime intervals of photons vanish, $v_r=1$. Considering only radial motion, $dr=dt=\\frac{dt}{da(t)}\\frac{da(z)}{dz}dz=\\frac{1}{(1+z)H(z)}dz$. This relation is correct only if the photon source is stationary in a homogeneous universe, i.e., the redshift is caused solely by universe expansion. "
   ]
  },
  {
   "cell_type": "markdown",
   "metadata": {},
   "source": [
    "## Real Space and Redshift Space"
   ]
  },
  {
   "cell_type": "markdown",
   "metadata": {},
   "source": [
    "Real space and redshift space all belong to comving space. Observing in the comoving space, if the galaxies are stationary, our observations of the galaxy positions are in real space. Taking the galaxies' peculiar velocities into account, our observations are in the redshift space. The scientific results from telescope data will be first converted to the redshift space and used to calculate 2PCFs and power spectra. For BAO analysis, the real space signal will be more significant. The simulations are usually conducted in real space.\n",
    "\n",
    "$v_{gal}=v_{pec}+v_{rec}$, where $v_{rec}=\\frac{d}{dt}a(t)d_{real}(\\textbf{r})=\\dot{a(t)}d_{real}(\\textbf{r})$.\n",
    "\n",
    "$v_{gal}=\\dot{a(t)}d_{redshift}(\\textbf{r})$  $\\Rightarrow$ $d_{redshift}(\\textbf{r})=\\frac{v_{gal}}{\\dot{a(t)}}=d_{real}(\\textbf{r})+\\frac{v_{pec}}{a(t)H(z)}=d_{real}(\\textbf{r})+v_{pec}\\frac{(1+z)}{H(z)}$"
   ]
  },
  {
   "cell_type": "markdown",
   "metadata": {},
   "source": [
    "## Redshift Space Distortion"
   ]
  },
  {
   "cell_type": "markdown",
   "metadata": {},
   "source": [
    "In our universe, galaxies has peculiar velocities that could distort our observation results. Only the motion in the line of sight will  distort our obervation. In the linear regime (large scales), our obervation is squeezed along the line of sight due to the peculiar motion caused by gravity. In the non-linear regime(small scales), due to the motion randomness, our observation is elongated in the line-of-sight direction. This effect is called the finger-of-god effect that galaxies seem all pointing their major axis towards us. This effect could be detected by the correlation function $\\xi(\\textbf{s})$. For 1D correlation function, RSD produces non-zero quadrupole and hexadecapole. For 2D correlation function, the BAO signal and paterns in a certain range would be squeezed in the line-of-sight direction.\n",
    "\n",
    "Due to the reshift space distortion, $\\rho_{obs}(\\textbf{x}_{obs})d^3\\textbf{x}_{obs}=\\rho(\\textbf{x})d^3\\textbf{x}$, i.e., $\\overline \\rho(1+\\delta_{obs})d^3\\textbf{x}_{obs}=\\overline \\rho(1+\\delta)d^3\\textbf{x}$. So \n",
    "\\begin{equation}\n",
    "\\delta_{obs}=\\delta+F(\\textbf{v},z)\n",
    "\\end{equation}\n",
    "where $F(\\textbf{v},z)=-\\frac{1}{H}\\partial_r(\\textbf{v} \\cdot\\textbf{n})$. \n",
    "As a result, we have\n",
    "\\begin{equation}\n",
    "\\begin{split}\n",
    "\\xi_{obs} &= \\langle \\delta_{obs}(\\textbf{x})\\delta_{obs}(\\textbf{x+s})\\rangle \\\\\n",
    "&=D_1^2\\bigg\\{ (1+\\frac{2f}{3}+\\frac{f^2}{5})\\mu_0(s)-(\\frac{4f}{3}+\\frac{4f^2}{7})\\mu_2(s)P_2(cos\\beta)+(\\frac{8f^2}{35})\\mu_4(s)P_4(cos\\beta)+\\cdots\\bigg\\}\n",
    "\\end{split}\n",
    "\\end{equation}\n",
    "Additionally, we have bias $\\delta_{gal}=b\\cdot\\delta_{dm}$ and peculiar velocity $v_{pec}=v_{dm}$, so the 2-point correlation function becomes\n",
    "\n",
    "\\begin{equation}\n",
    "\\xi_{obs} =D_1^2\\bigg\\{ (b^2+\\frac{2bf}{3}+\\frac{f^2}{5})\\mu_0(s)-(\\frac{4bf}{3}+\\frac{4f^2}{7})\\mu_2(s)P_2(cos\\beta)+(\\frac{8f^2}{35})\\mu_4(s)P_4(cos\\beta)+\\cdots\\bigg\\}\n",
    "\\end{equation}\n",
    "\n"
   ]
  },
  {
   "cell_type": "markdown",
   "metadata": {},
   "source": [
    "where $D_1$ is the growth function, $b$ is the galaxy-DM bias, density-velocity term is proportional to $f=\\frac{a}{D_1}\\frac{dD_1}{da}$, and velocity-velocity term is proportional to $f^2$, $P_i(cos\\beta)$ is Legendre polynomials, and $\\beta$ is the angle between the line of sight and measured pairs' vector, ranging from 0 to $\\pi$.\n",
    "\\begin{equation}\n",
    "\\mu_i =\\frac{A}{2\\pi^2}\\int \\frac{dk}{k}(\\frac{k}{H_0})^{n_s-1}T^2_{\\delta}(k)j_i(k\\cdot s),\n",
    "\\end{equation}"
   ]
  },
  {
   "cell_type": "markdown",
   "metadata": {},
   "source": [
    "## Multipole Extraction"
   ]
  },
  {
   "cell_type": "markdown",
   "metadata": {},
   "source": [
    "Monopole $\\xi_0=\\frac{2\\times0+1}{2}\\int^1_{-1}d\\mu \\xi(s,\\mu)P_0(\\mu)=D_1^2 (b^2+\\frac{2bf}{3}+\\frac{f^2}{5})\\mu_0(s)$.\n",
    "\n",
    "Quadrupole $\\xi_4=\\frac{2\\times2+1}{2}\\int^1_{-1}d\\mu \\xi(s,\\mu) P_2(\\mu)=-D_1^2 (\\frac{4bf}{3}+\\frac{4f^2}{7})\\mu_2(s)$\n",
    "\n",
    "Hexadecapole $\\xi_{16}=\\frac{2\\times4+1}{2}\\int^1_{-1}d\\mu \\xi(s,\\mu) P_4(\\mu)=D_1^2 \\frac{8f^2}{35}\\mu_4(s)$"
   ]
  },
  {
   "cell_type": "markdown",
   "metadata": {},
   "source": []
  },
  {
   "cell_type": "code",
   "execution_count": null,
   "metadata": {},
   "outputs": [],
   "source": []
  },
  {
   "cell_type": "code",
   "execution_count": null,
   "metadata": {},
   "outputs": [],
   "source": []
  },
  {
   "cell_type": "code",
   "execution_count": null,
   "metadata": {},
   "outputs": [],
   "source": []
  },
  {
   "cell_type": "code",
   "execution_count": null,
   "metadata": {},
   "outputs": [],
   "source": []
  },
  {
   "cell_type": "markdown",
   "metadata": {},
   "source": []
  },
  {
   "cell_type": "markdown",
   "metadata": {},
   "source": [
    "With galaxy catalogues in hand, we calculate the 2-point-correlation-functions of them for different PDF $f(V_{peak})$ and use $\\chi^2$ test to find the most appropriate one. Luminous Red Galaxies (LRG) and Emission Line Galaxies (ELG) will be considered separately. After obtaining the PDF of LRG and ELG separately, we could now combine those two distributions in one graph and calculate the 2PCF for LRG-LRG, ELG-ELG and LRG-ELG. The most tricky part would be dealing with the overlapping PDF of LRG and ELG."
   ]
  },
  {
   "cell_type": "code",
   "execution_count": null,
   "metadata": {},
   "outputs": [],
   "source": []
  }
 ],
 "metadata": {
  "kernelspec": {
   "display_name": "Python 3",
   "language": "python",
   "name": "python3"
  },
  "language_info": {
   "codemirror_mode": {
    "name": "ipython",
    "version": 3
   },
   "file_extension": ".py",
   "mimetype": "text/x-python",
   "name": "python",
   "nbconvert_exporter": "python",
   "pygments_lexer": "ipython3",
   "version": "3.7.3"
  }
 },
 "nbformat": 4,
 "nbformat_minor": 2
}
