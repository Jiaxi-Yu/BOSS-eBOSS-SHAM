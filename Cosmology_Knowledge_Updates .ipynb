{
 "cells": [
  {
   "cell_type": "markdown",
   "metadata": {},
   "source": [
    "# Cosmology Knowledge Updates\n",
    "\n",
    "## Observations\n",
    "* Massive Spectroscopic surveys\n",
    "* Star Forming Galaxies\n",
    "    * XX\n",
    "        * Assembly bias:\n",
    "* SZE(CMB power spectra shift: read again)\n",
    "    * Observation(Carlstrom, J. E., Holder, G. P., & Reese, E. D. (2002))\n",
    "        * insensitive to z so good probe for ICM column density, cluster-density evolution in high redshift and DE study\n",
    "        * high resolution with gas dynamic, SZE-mass relation, cosmo. evolution history unknown\n",
    "* Correlation function and Power Spectrum\n",
    "* Hubble's Constant:\n",
    "    * [Measurement](Freedman, W. L. and Madore, B. F. (2010))\n",
    "        * 6 ways of locally precise measurement(related to distance): $73^{+-2}_{+-4} km/s/Mpc$\n",
    "            * Cepheid period-luminosity??\n",
    "            * TRGB method for \n",
    "        * Other measurements: SL, SZ effect, anisotropy in CMB power spectrum, BAO in matter power spectrum\n",
    "        * importance: $H_0$ set scales for cosmo. time and distances; constrain EOS of DE, the energy density of CDM and the mass of neutrinos \n",
    "* Galaxy cluster:\n",
    "    * [Observation](/media/jiaxi/disk/Master/master_short-term/ArticleReading/annurev-astro-081710-102514.pdf)(2011)\n",
    "        * manifested in DM halos and originate from primodial quantum fluctuations\n",
    "        * well-modelled by N-body sim. in general but not in details\n",
    "        * cluster counting and ICM mass function studies in observation\n",
    "        * Multi-wavelength observation and new statistical models are critical \n",
    "        * Constrains DE abundance and EOS, power spectra amplitude, matter abundance, neutrino mass \n"
   ]
  },
  {
   "cell_type": "markdown",
   "metadata": {},
   "source": [
    "## Theories & Simulations\n",
    "* The Big Bang Theory\n",
    "* $\\Lambda$CDM Large scale structure\n",
    "* Perturbation Theory\n",
    "* Inflation scenario\n",
    "\n"
   ]
  },
  {
   "cell_type": "code",
   "execution_count": null,
   "metadata": {},
   "outputs": [],
   "source": []
  }
 ],
 "metadata": {
  "kernelspec": {
   "display_name": "Python 3",
   "language": "python",
   "name": "python3"
  },
  "language_info": {
   "codemirror_mode": {
    "name": "ipython",
    "version": 3
   },
   "file_extension": ".py",
   "mimetype": "text/x-python",
   "name": "python",
   "nbconvert_exporter": "python",
   "pygments_lexer": "ipython3",
   "version": "3.7.3"
  }
 },
 "nbformat": 4,
 "nbformat_minor": 2
}
