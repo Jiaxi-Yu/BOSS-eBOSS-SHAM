{
 "cells": [
  {
   "cell_type": "markdown",
   "metadata": {},
   "source": [
    "# Work Plan"
   ]
  },
  {
   "cell_type": "markdown",
   "metadata": {},
   "source": [
    "* Create LRG catalogue from the halo catalogue using HAM with parameter $\\sigma_{HAM}$\n",
    "    * 2PCF and RSD tests\n",
    "* Determine $\\sigma_{HAM}$ by fitting the HAM model with observation\n",
    "    * 2PCF, $\\chi^2$ minimise\n",
    "        * 2PCF fibre collision effects determination using EZmock\n",
    "        * the code for $\\chi^2$ tests\n",
    "----------------------------------------------------------------------        \n",
    "        * systematics and weights in galaxy mock and observations(?)\n",
    "    * get the LRG distribution function in haloes\n",
    "\n",
    "* Do the same for ELG but with more complicated HAM model\n",
    "    * 3 free parameters in HAM models\n",
    "    * get the ELG distribution function in haloes \n",
    "    \n",
    "* Cross-correlate the LRG and ELG\n",
    "    * Combine the galaxy distribution function for both LRG and ELG\n",
    "    * Fit the LRG 2PCF, ELG 2PCF and LRG-ELG CCF with observation\n",
    "        * parameters: 1(ELG-LRG overlap)"
   ]
  },
  {
   "cell_type": "markdown",
   "metadata": {},
   "source": [
    "## Process\n",
    "### To do\n",
    "\n",
    "* Completing the $\\chi^2$ calculation code independently: $\\chi^2$\n",
    "    * LRG sorting process takes lots of time(~90s once)\n",
    "    * the same seed and sigma provide different 2pcf results(inconsistency)\n",
    "    * how to plot error bars\n",
    "    \n",
    "* Use the real data for the LRG distribution determination.\n",
    "* Do the same for ELGs\n",
    "\n"
   ]
  },
  {
   "cell_type": "markdown",
   "metadata": {},
   "source": [
    "### Done\n",
    "* read test halo catalogue and created LRG catalogues from it \n",
    "    * scattering parameter $\\sigma_{HAM}$\n",
    "* Calculated the mono-, quadru- and hexadeca-poles of the 2-point correlation function\n",
    "    * used 2PCF code from Cheng\n",
    "* converted the halo/galaxy catalogue from the real space to the redshift space\n",
    "    * RSD effect\n",
    "* determined the starting point of 2PCF\n",
    "    * start from 0 is acceptable\n",
    "    * fibre collision effect are so small (<1Mpc/h) that our bin size cannot resolute it\n",
    "* used the Corrfunc to count the galaxy pairs for $\\chi^2$ tests\n",
    "    * ensured Corrfunc could produce the same result as 2pcf\n",
    "    * Corrfunc.theory.DDsmu() and np.trapz() were employed to calculate multipoles\n",
    "    * RR analytical form should be $\\frac{4\\pi}{3}\\frac{s_{max}^3-s_{min}^3}{nmu}$\n",
    "* observation and covariance matric for $\\chi^2$ tests\n",
    "    * observation use 2pcf, bin width = 1Mpc/h, multipoles:[mono,quad]\n",
    "    * covariance matrix from the existing DD,DR,RR files\n",
    "        * pair counts results match the 2pcf results of mocks\n",
    "        * np.trapz() used\n",
    "        * it is a covariance matrix of multipoles' combination, i.e., cov = np.cov([mono,quad]) \n",
    "        * unbiased $C^{-1}=np.linalg.pinv(cov)\\times \\frac{N_{bins}-N_{mocks}-2}{N_{bins}-1}$\n",
    "* completing the $\\chi^2$ calculation code\n",
    "    * observation 2pcf multipoles\n",
    "    * mock 2pcf multipoles and covariance matrix\n",
    "    * Normalised RR analytical calculation\n",
    "   "
   ]
  },
  {
   "cell_type": "code",
   "execution_count": null,
   "metadata": {},
   "outputs": [],
   "source": [
    "import heapq"
   ]
  },
  {
   "cell_type": "code",
   "execution_count": 1,
   "metadata": {},
   "outputs": [
    {
     "ename": "SyntaxError",
     "evalue": "invalid syntax (<ipython-input-1-212bd8f3e42d>, line 5)",
     "output_type": "error",
     "traceback": [
      "\u001b[1;36m  File \u001b[1;32m\"<ipython-input-1-212bd8f3e42d>\"\u001b[1;36m, line \u001b[1;32m5\u001b[0m\n\u001b[1;33m    np.ra...\u001b[0m\n\u001b[1;37m           ^\u001b[0m\n\u001b[1;31mSyntaxError\u001b[0m\u001b[1;31m:\u001b[0m invalid syntax\n"
     ]
    }
   ],
   "source": [
    "# in the beginning.\n",
    "np.random.seed()\n",
    "\n",
    "def chi2():\n",
    "    np.ra..."
   ]
  },
  {
   "cell_type": "code",
   "execution_count": null,
   "metadata": {},
   "outputs": [],
   "source": []
  },
  {
   "cell_type": "code",
   "execution_count": null,
   "metadata": {},
   "outputs": [],
   "source": []
  },
  {
   "cell_type": "code",
   "execution_count": null,
   "metadata": {},
   "outputs": [],
   "source": []
  },
  {
   "cell_type": "code",
   "execution_count": null,
   "metadata": {},
   "outputs": [],
   "source": []
  }
 ],
 "metadata": {
  "kernelspec": {
   "display_name": "Python 3",
   "language": "python",
   "name": "python3"
  },
  "language_info": {
   "codemirror_mode": {
    "name": "ipython",
    "version": 3
   },
   "file_extension": ".py",
   "mimetype": "text/x-python",
   "name": "python",
   "nbconvert_exporter": "python",
   "pygments_lexer": "ipython3",
   "version": "3.7.3"
  }
 },
 "nbformat": 4,
 "nbformat_minor": 2
}
